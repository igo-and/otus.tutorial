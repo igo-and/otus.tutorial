{
 "cells": [
  {
   "cell_type": "markdown",
   "id": "d2ee501b",
   "metadata": {},
   "source": [
    "## Home Work 1"
   ]
  },
  {
   "cell_type": "markdown",
   "id": "ecafa471",
   "metadata": {},
   "source": [
    "#### Задача 1\n",
    "\n",
    "хоббитов делят  кусков эльфийского хлеба поровну, не делящийся нацело остаток остается в корзинке у Сэма. Напишите функцию, которая принимает на вход параметры  и  и возвращает два числа:  - cколько кусков эльфиского хлеба достанется каждому хоббиту, и  - сколько кусков остаётся в корзинке.\n",
    "\n"
   ]
  },
  {
   "cell_type": "code",
   "execution_count": null,
   "id": "4649bf84",
   "metadata": {},
   "outputs": [],
   "source": [
    "def share_bread(N, K):\n",
    "    # your code here\n",
    "    y = K % N # остаток от деления = сколько кусков остаток в корзине\n",
    "    x = K // N # целочисленное деление = сколько кусков хлеба каждому \n",
    "    print (x, y)\n",
    "    return x, y\n",
    "\n",
    "# если в функции всё верно, то после выполнения этой строчки, не должно выскакивать ошибок\n",
    "assert share_bread(N=3, K=14) == (4, 2)"
   ]
  },
  {
   "cell_type": "code",
   "execution_count": null,
   "id": "c727446e",
   "metadata": {},
   "outputs": [],
   "source": []
  },
  {
   "cell_type": "markdown",
   "id": "48be9461",
   "metadata": {},
   "source": [
    "#### Задача 2\n"
   ]
  },
  {
   "cell_type": "code",
   "execution_count": null,
   "id": "04471481",
   "metadata": {},
   "outputs": [],
   "source": [
    "def leap_year(year):\n",
    "    # your code here\n",
    "    if year % 4 != 0:\n",
    "        text_result = \"YOU SHALL NOT PASS\"\n",
    "    elif year % 100 == 0 and  year % 400 != 0:\n",
    "        text_result = \"YOU SHALL NOT PASS\"\n",
    "    else:\n",
    "        text_result = \"YOU SHALL PASS\"\n",
    "    return text_result\n",
    "\n",
    "leap_year(400)"
   ]
  },
  {
   "cell_type": "markdown",
   "id": "462a2c18",
   "metadata": {},
   "source": [
    "### Задача 3"
   ]
  },
  {
   "cell_type": "code",
   "execution_count": null,
   "id": "f070af87",
   "metadata": {},
   "outputs": [],
   "source": [
    "def amulet_area(a, b, c):\n",
    "    # your code here\n",
    "    p = (a + b + c) / 2\n",
    "    S = (p * (p - a) * (p - b) * (p - c)) ** 0.5\n",
    "    return S\n",
    "\n",
    "assert amulet_area(3, 4, 5) == 6"
   ]
  },
  {
   "cell_type": "markdown",
   "id": "5982199d",
   "metadata": {},
   "source": [
    "### Задача 4"
   ]
  },
  {
   "cell_type": "markdown",
   "id": "8fa09364",
   "metadata": {},
   "source": [
    "Хоббиты собираются пешком идти до Мордора и им нужно подсчитать расстояние, которое им предстоит пройти. Хоббиты смогли вспомнить сразу несколько метрик расстояния: евклидово, манхэттена и косинусное, так что ваша задача - напистаь функцию под каждую из них. Важное условие - используйте только базовые функции numpy для решения."
   ]
  },
  {
   "cell_type": "markdown",
   "id": "b365f00a",
   "metadata": {},
   "source": [
    "#### Евклидово расстояние"
   ]
  },
  {
   "cell_type": "code",
   "execution_count": null,
   "id": "0a472ca9",
   "metadata": {},
   "outputs": [],
   "source": [
    "import numpy as np\n",
    "\n",
    "a = np.random.randint(-10, 10, size=10)\n",
    "b = np.random.randint(-10, 10, size=10)\n",
    "\n",
    "\n",
    "def cal_euclidean(a, b):    \n",
    "    \n",
    "    # квадраты векторов\n",
    "    square = np.square(a - b)\n",
    "    # сумма квадратов векторов\n",
    "    sum_square = np.sum(square)\n",
    "\n",
    "    # квадратный корень\n",
    "    distance = np.sqrt(sum_square)\n",
    "    \n",
    "    return distance\n",
    "\n",
    "\n",
    "cal_euclidean(a, b)"
   ]
  },
  {
   "cell_type": "markdown",
   "id": "0a9e72d3",
   "metadata": {},
   "source": [
    "#### Расстояние Манхэттена"
   ]
  },
  {
   "cell_type": "code",
   "execution_count": 7,
   "id": "20055265",
   "metadata": {},
   "outputs": [
    {
     "data": {
      "text/plain": [
       "56"
      ]
     },
     "execution_count": 7,
     "metadata": {},
     "output_type": "execute_result"
    }
   ],
   "source": [
    "import numpy as np\n",
    "\n",
    "a = np.random.randint(-10, 10, size=10)\n",
    "b = np.random.randint(-10, 10, size=10)\n",
    "\n",
    "def cal_manhattan(a, b):    \n",
    "    distance = np.sum(np.abs(a - b))\n",
    "    return distance\n",
    "\n",
    "cal_manhattan(a, b)"
   ]
  },
  {
   "cell_type": "markdown",
   "id": "3b4975a0",
   "metadata": {},
   "source": [
    "#### Косинусное расстояние"
   ]
  },
  {
   "cell_type": "markdown",
   "id": "277fc970",
   "metadata": {},
   "source": [
    "##### исправленный код"
   ]
  },
  {
   "cell_type": "code",
   "execution_count": 65,
   "id": "f1720188",
   "metadata": {},
   "outputs": [
    {
     "data": {
      "text/plain": [
       "0.9220992699179692"
      ]
     },
     "execution_count": 65,
     "metadata": {},
     "output_type": "execute_result"
    }
   ],
   "source": [
    "\n",
    "import numpy as np\n",
    "\n",
    "a = np.random.randint(-10, 10, size=10)\n",
    "b = np.random.randint(-10, 10, size=10)\n",
    "\n",
    "def cal_cosine(a, b):    \n",
    "    distance = 1 - np.dot(a, b)/(np.sqrt(sum(np.square(a))) * np.sqrt(sum(np.square(b)))) \n",
    "    return distance\n",
    "\n",
    "cal_cosine(a, b)"
   ]
  },
  {
   "cell_type": "markdown",
   "id": "efcf5165",
   "metadata": {},
   "source": [
    "##### моё для эксперимента"
   ]
  },
  {
   "cell_type": "code",
   "execution_count": 63,
   "id": "d19136f3",
   "metadata": {},
   "outputs": [
    {
     "name": "stdout",
     "output_type": "stream",
     "text": [
      "[  4  -4   3  -7   4   6   3   5   8 -10]\n",
      "[ 16  16   9  49  16  36   9  25  64 100]\n",
      "340\n",
      "18.439088914585774\n"
     ]
    }
   ],
   "source": [
    "## это для себя расписываю элемент формулы на Python\n",
    "## квадратный корень из суммы квадратов элементов вектора (матрицы)\n",
    "\n",
    "print(a)\n",
    "print(np.square(a))\n",
    "print(sum(np.square(a)))\n",
    "print(np.sqrt(sum(np.square(a))))\n"
   ]
  },
  {
   "cell_type": "code",
   "execution_count": null,
   "id": "a47116eb",
   "metadata": {},
   "outputs": [],
   "source": []
  },
  {
   "cell_type": "code",
   "execution_count": null,
   "id": "5ccf22ed",
   "metadata": {},
   "outputs": [],
   "source": []
  },
  {
   "cell_type": "markdown",
   "id": "9f97d6de",
   "metadata": {},
   "source": [
    "### Задача 5"
   ]
  },
  {
   "cell_type": "markdown",
   "id": "a18d29e4",
   "metadata": {},
   "source": [
    "Создайте случайный array (np.random.rand()) длинной 100. \n",
    "Преобразуйте его так, чтобы\n",
    "- Максимальный элемент(ы) был равен 1\n",
    "- Минимальный элемент(ы) был равен 0\n",
    "- Остальные элементы в итнтервале от 0 до 1 остаются прежними"
   ]
  },
  {
   "cell_type": "markdown",
   "id": "54728518",
   "metadata": {},
   "source": [
    "##### исправленный код"
   ]
  },
  {
   "cell_type": "code",
   "execution_count": null,
   "id": "62303565",
   "metadata": {},
   "outputs": [],
   "source": [
    "import numpy as np\n",
    "my_array = np.random.rand(101)\n",
    "print(np.max(my_array), np.min(my_array))\n",
    "\n",
    "# ищем индекс макс и мин значения в массиве\n",
    "maximum_value_index = np.argmax(my_array)\n",
    "minimum_value_index = np.argmin(my_array)\n",
    "print(f' - maximum_value_index = {maximum_value_index},  \\n - minimum_value_index = {minimum_value_index}')\n",
    "\n",
    "print('\\n - Меняем макс и мин значения в массиве. Остальные значения без изменений')\n",
    "my_array[maximum_value_index] = 1.0\n",
    "my_array[minimum_value_index] = 0.0\n",
    "print(my_array)\n"
   ]
  },
  {
   "cell_type": "markdown",
   "id": "2b2b4c61",
   "metadata": {},
   "source": [
    "#### старая редакция"
   ]
  },
  {
   "cell_type": "code",
   "execution_count": null,
   "id": "05510868",
   "metadata": {},
   "outputs": [],
   "source": [
    "import numpy as np\n",
    "my_array = np.random.rand(101)\n",
    "print(np.max(my_array), np.min(my_array))\n",
    "print()\n",
    "\n",
    "# ищем индекс макс и мин значения в массиве\n",
    "max_value = 0\n",
    "min_value = 1\n",
    "# ищем максимальное и минимально значение массива\n",
    "for index, value in enumerate(my_array):\n",
    "    if value > max_value:\n",
    "        max_value = value\n",
    "        max_index = index # индекс максимального значения\n",
    "    if value < min_value:\n",
    "        min_value = value\n",
    "        min_index = index  # индекс минимального значения\n",
    "\n",
    "print(f' - макс. значение [{max_index}] {max_value}, \\n - мин. значение [{min_index}] {min_value}')\n",
    "\n",
    "print('\\nМеняем макс и мин значения в массиве. Остальные значения без изменений')\n",
    "my_array[max_index] = 1.0\n",
    "my_array[min_index] = 0.0\n",
    "my_array\n",
    "print(my_array)"
   ]
  },
  {
   "cell_type": "markdown",
   "id": "1bdba800",
   "metadata": {},
   "source": [
    "Создайте array размером  с целыми числами в интервале [0,50]. \n",
    "\n",
    "Напечатайте колонку, которая содержит максимальный элемент полученной матрицы"
   ]
  },
  {
   "cell_type": "markdown",
   "id": "5d372237",
   "metadata": {},
   "source": [
    "#### исправленный код"
   ]
  },
  {
   "cell_type": "code",
   "execution_count": null,
   "id": "31fde014",
   "metadata": {},
   "outputs": [],
   "source": [
    "import numpy as np\n",
    "\n",
    "arr = np.random.randint(0, 50,  size=(5,6))\n",
    "print('Сгенерированная матрица\\n', arr)\n",
    "\n",
    "print(' - ищем наибольшее значение в каждом столбце')\n",
    "max_val_col = np.max(arr, axis = 0)\n",
    "print( f'max_val_col {max_val_col} \\n' )\n",
    "\n",
    "print(' - ищем ИНДЕКС СТОЛБЦА где находится наибольшее значение')\n",
    "index_max_col = np.argmax(max_val_col)\n",
    "print( f'index_max_col {index_max_col}\\n' )\n",
    "\n",
    "print(' - столбец с наибольшим значением')\n",
    "print(arr[ :, index_max_col])"
   ]
  },
  {
   "cell_type": "markdown",
   "id": "e3e44220",
   "metadata": {},
   "source": [
    "#### старая редакция"
   ]
  },
  {
   "cell_type": "code",
   "execution_count": null,
   "id": "3485f048",
   "metadata": {},
   "outputs": [],
   "source": [
    "'''\n",
    "Создайте array размером 5 на 6 с целыми числами в интервале [0,50].\n",
    "Напечатайте колонку, которая содержит максимальный элемент полученной матрицы\n",
    "'''\n",
    "\n",
    "import numpy as np\n",
    "\n",
    "arr = np.random.randint(0, 50,  size=(5,6))\n",
    "print('Сгенерированная матрица\\n', arr)\n",
    "\n",
    "# ищем наибольший элемент в матрице и его индекс\n",
    "max_value = 0\n",
    "for index_row, value in enumerate(arr):\n",
    "    for index_col, value_row in enumerate(arr):\n",
    "        value = arr[index_row][index_col]\n",
    "        if value > max_value:\n",
    "            max_value = value\n",
    "            # индексы максимального значения\n",
    "            max_index_row = index_row   # это значение нам особо не нужно, но ладно пусть будет\n",
    "            max_index_col = index_col\n",
    "\n",
    "print(f'\\nмаксимальное значением в матрице [{ max_index_row }][{max_index_col }] = { arr[max_index_row][max_index_col] }')\n",
    "print('столбец с максимальным значением в матрице:')\n",
    "i = 0\n",
    "for k in arr:\n",
    "    col_print = arr[i][max_index_col]\n",
    "    i += 1\n",
    "    print(col_print)"
   ]
  },
  {
   "cell_type": "markdown",
   "id": "d4208c3f",
   "metadata": {},
   "source": [
    "Напишите функцию, которая принимает на вохд матрицу (array) X \n",
    "и возвращает все её уникальные строки в виде новой матрицы."
   ]
  },
  {
   "cell_type": "code",
   "execution_count": null,
   "id": "c35ed289",
   "metadata": {},
   "outputs": [],
   "source": [
    "import numpy as np\n",
    "\n",
    "Y =  np.random.randint(4, 6, size=(10,3))\n",
    "print('Сгенерированная матрица\\n', Y)\n",
    "\n",
    "print('\\nУникальная матрица')\n",
    "uniq_matrix = np.unique(Y, axis = 0)\n",
    "print( uniq_matrix)"
   ]
  },
  {
   "cell_type": "code",
   "execution_count": null,
   "id": "505aa039",
   "metadata": {},
   "outputs": [],
   "source": []
  },
  {
   "cell_type": "code",
   "execution_count": null,
   "id": "a51afe18",
   "metadata": {},
   "outputs": [],
   "source": []
  }
 ],
 "metadata": {
  "kernelspec": {
   "display_name": "Python 3 (ipykernel)",
   "language": "python",
   "name": "python3"
  },
  "language_info": {
   "codemirror_mode": {
    "name": "ipython",
    "version": 3
   },
   "file_extension": ".py",
   "mimetype": "text/x-python",
   "name": "python",
   "nbconvert_exporter": "python",
   "pygments_lexer": "ipython3",
   "version": "3.9.13"
  }
 },
 "nbformat": 4,
 "nbformat_minor": 5
}
