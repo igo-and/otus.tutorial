{
 "cells": [
  {
   "cell_type": "markdown",
   "id": "514bb5dd",
   "metadata": {},
   "source": [
    "## Home Work 1"
   ]
  },
  {
   "cell_type": "markdown",
   "id": "05c96cef",
   "metadata": {},
   "source": [
    "#### Задача 1\n",
    "\n",
    "хоббитов делят  кусков эльфийского хлеба поровну, не делящийся нацело остаток остается в корзинке у Сэма. Напишите функцию, которая принимает на вход параметры  и  и возвращает два числа:  - cколько кусков эльфиского хлеба достанется каждому хоббиту, и  - сколько кусков остаётся в корзинке.\n",
    "\n"
   ]
  },
  {
   "cell_type": "code",
   "execution_count": null,
   "id": "5002712c",
   "metadata": {},
   "outputs": [],
   "source": [
    "def share_bread(N, K):\n",
    "    # your code here\n",
    "    y = K % N # остаток от деления = сколько кусков остаток в корзине\n",
    "    x = K // N # целочисленное деление = сколько кусков хлеба каждому \n",
    "    print (x, y)\n",
    "    return x, y\n",
    "\n",
    "# если в функции всё верно, то после выполнения этой строчки, не должно выскакивать ошибок\n",
    "assert share_bread(N=3, K=14) == (4, 2)"
   ]
  },
  {
   "cell_type": "code",
   "execution_count": null,
   "id": "3121761a",
   "metadata": {},
   "outputs": [],
   "source": []
  },
  {
   "cell_type": "markdown",
   "id": "eabdcdc2",
   "metadata": {},
   "source": [
    "#### Задача 2\n"
   ]
  },
  {
   "cell_type": "code",
   "execution_count": null,
   "id": "15d34009",
   "metadata": {},
   "outputs": [],
   "source": [
    "def leap_year(year):\n",
    "    # your code here\n",
    "    if year % 4 != 0:\n",
    "        text_result = \"YOU SHALL NOT PASS\"\n",
    "    elif year % 100 == 0 and  year % 400 != 0:\n",
    "        text_result = \"YOU SHALL NOT PASS\"\n",
    "    else:\n",
    "        text_result = \"YOU SHALL PASS\"\n",
    "    return text_result\n",
    "\n",
    "leap_year(400)"
   ]
  },
  {
   "cell_type": "markdown",
   "id": "3e80a75e",
   "metadata": {},
   "source": [
    "### Задача 3"
   ]
  },
  {
   "cell_type": "code",
   "execution_count": null,
   "id": "1daa4573",
   "metadata": {},
   "outputs": [],
   "source": [
    "def amulet_area(a, b, c):\n",
    "    # your code here\n",
    "    p = (a + b + c) / 2\n",
    "    S = (p * (p - a) * (p - b) * (p - c)) ** 0.5\n",
    "    return S\n",
    "\n",
    "assert amulet_area(3, 4, 5) == 6"
   ]
  },
  {
   "cell_type": "markdown",
   "id": "dc46450f",
   "metadata": {},
   "source": [
    "### Задача 4"
   ]
  },
  {
   "cell_type": "markdown",
   "id": "47abc569",
   "metadata": {},
   "source": [
    "Хоббиты собираются пешком идти до Мордора и им нужно подсчитать расстояние, которое им предстоит пройти. Хоббиты смогли вспомнить сразу несколько метрик расстояния: евклидово, манхэттена и косинусное, так что ваша задача - напистаь функцию под каждую из них. Важное условие - используйте только базовые функции numpy для решения."
   ]
  },
  {
   "cell_type": "markdown",
   "id": "ee44fcbe",
   "metadata": {},
   "source": [
    "#### Евклидово расстояние"
   ]
  },
  {
   "cell_type": "code",
   "execution_count": null,
   "id": "40ee6895",
   "metadata": {},
   "outputs": [],
   "source": [
    "import numpy as np\n",
    "\n",
    "a = np.random.randint(-10, 10, size=10)\n",
    "b = np.random.randint(-10, 10, size=10)\n",
    "\n",
    "\n",
    "def cal_euclidean(a, b):    \n",
    "    \n",
    "    # квадраты векторов\n",
    "    square = np.square(a - b)\n",
    "    # сумма квадратов векторов\n",
    "    sum_square = np.sum(square)\n",
    "\n",
    "    # квадратный корень\n",
    "    distance = np.sqrt(sum_square)\n",
    "    \n",
    "    return distance\n",
    "\n",
    "\n",
    "cal_euclidean(a, b)"
   ]
  },
  {
   "cell_type": "markdown",
   "id": "b5a76786",
   "metadata": {},
   "source": [
    "#### Расстояние Манхэттена"
   ]
  },
  {
   "cell_type": "code",
   "execution_count": null,
   "id": "4239dab9",
   "metadata": {},
   "outputs": [],
   "source": [
    "import numpy as np\n",
    "\n",
    "a = np.random.randint(-10, 10, size=10)\n",
    "b = np.random.randint(-10, 10, size=10)\n",
    "\n",
    "def cal_manhattan(a, b):    \n",
    "    distance = np.sum(np.abs(a - b))\n",
    "    return distance\n",
    "\n",
    "cal_manhattan(a, b)"
   ]
  },
  {
   "cell_type": "markdown",
   "id": "8a922a36",
   "metadata": {},
   "source": [
    "#### Косинусное расстояние"
   ]
  },
  {
   "cell_type": "code",
   "execution_count": null,
   "id": "275fc2ca",
   "metadata": {},
   "outputs": [],
   "source": [
    "a = np.random.randint(-10, 10, size=10)\n",
    "b = np.random.randint(-10, 10, size=10)\n",
    "\n",
    "def cal_cosine(a, b):    \n",
    "    distance = 1 - np.dot(a, b)/(np.linalg.norm(a)*(np.linalg.norm(b)))\n",
    "    return distance\n",
    "\n",
    "cal_cosine(a, b)"
   ]
  },
  {
   "cell_type": "code",
   "execution_count": null,
   "id": "2b63179d",
   "metadata": {},
   "outputs": [],
   "source": []
  },
  {
   "cell_type": "markdown",
   "id": "bf07cdfb",
   "metadata": {},
   "source": [
    "### Задача 5"
   ]
  },
  {
   "cell_type": "markdown",
   "id": "474aad68",
   "metadata": {},
   "source": [
    "Создайте случайный array (np.random.rand()) длинной 100. \n",
    "Преобразуйте его так, чтобы\n",
    "- Максимальный элемент(ы) был равен 1\n",
    "- Минимальный элемент(ы) был равен 0\n",
    "- Остальные элементы в итнтервале от 0 до 1 остаются прежними"
   ]
  },
  {
   "cell_type": "markdown",
   "id": "076194bc",
   "metadata": {},
   "source": [
    "##### исправленный код"
   ]
  },
  {
   "cell_type": "code",
   "execution_count": null,
   "id": "ce5d265f",
   "metadata": {},
   "outputs": [],
   "source": [
    "import numpy as np\n",
    "my_array = np.random.rand(101)\n",
    "print(np.max(my_array), np.min(my_array))\n",
    "\n",
    "# ищем индекс макс и мин значения в массиве\n",
    "maximum_value_index = np.argmax(my_array)\n",
    "minimum_value_index = np.argmin(my_array)\n",
    "print(f' - maximum_value_index = {maximum_value_index},  \\n - minimum_value_index = {minimum_value_index}')\n",
    "\n",
    "print('\\n - Меняем макс и мин значения в массиве. Остальные значения без изменений')\n",
    "my_array[maximum_value_index] = 1.0\n",
    "my_array[minimum_value_index] = 0.0\n",
    "print(my_array)\n"
   ]
  },
  {
   "cell_type": "markdown",
   "id": "9ef09ca6",
   "metadata": {},
   "source": [
    "#### старая редакция"
   ]
  },
  {
   "cell_type": "code",
   "execution_count": null,
   "id": "782698b5",
   "metadata": {},
   "outputs": [],
   "source": [
    "import numpy as np\n",
    "my_array = np.random.rand(101)\n",
    "print(np.max(my_array), np.min(my_array))\n",
    "print()\n",
    "\n",
    "# ищем индекс макс и мин значения в массиве\n",
    "max_value = 0\n",
    "min_value = 1\n",
    "# ищем максимальное и минимально значение массива\n",
    "for index, value in enumerate(my_array):\n",
    "    if value > max_value:\n",
    "        max_value = value\n",
    "        max_index = index # индекс максимального значения\n",
    "    if value < min_value:\n",
    "        min_value = value\n",
    "        min_index = index  # индекс минимального значения\n",
    "\n",
    "print(f' - макс. значение [{max_index}] {max_value}, \\n - мин. значение [{min_index}] {min_value}')\n",
    "\n",
    "print('\\nМеняем макс и мин значения в массиве. Остальные значения без изменений')\n",
    "my_array[max_index] = 1.0\n",
    "my_array[min_index] = 0.0\n",
    "my_array\n",
    "print(my_array)"
   ]
  },
  {
   "cell_type": "markdown",
   "id": "8389120e",
   "metadata": {},
   "source": [
    "Создайте array размером  с целыми числами в интервале [0,50]. \n",
    "\n",
    "Напечатайте колонку, которая содержит максимальный элемент полученной матрицы"
   ]
  },
  {
   "cell_type": "markdown",
   "id": "ceb766b6",
   "metadata": {},
   "source": [
    "#### исправленный код"
   ]
  },
  {
   "cell_type": "code",
   "execution_count": null,
   "id": "3aee2936",
   "metadata": {},
   "outputs": [],
   "source": [
    "import numpy as np\n",
    "\n",
    "arr = np.random.randint(0, 50,  size=(5,6))\n",
    "print('Сгенерированная матрица\\n', arr)\n",
    "\n",
    "print(' - ищем наибольшее значение в каждом столбце')\n",
    "max_val_col = np.max(arr, axis = 0)\n",
    "print( f'max_val_col {max_val_col} \\n' )\n",
    "\n",
    "print(' - ищем ИНДЕКС СТОЛБЦА где находится наибольшее значение')\n",
    "index_max_col = np.argmax(max_val_col)\n",
    "print( f'index_max_col {index_max_col}\\n' )\n",
    "\n",
    "print(' - столбец с наибольшим значением')\n",
    "print(arr[ :, index_max_col])"
   ]
  },
  {
   "cell_type": "markdown",
   "id": "899ed972",
   "metadata": {},
   "source": [
    "#### старая редакция"
   ]
  },
  {
   "cell_type": "code",
   "execution_count": null,
   "id": "b9b1bade",
   "metadata": {},
   "outputs": [],
   "source": [
    "'''\n",
    "Создайте array размером 5 на 6 с целыми числами в интервале [0,50].\n",
    "Напечатайте колонку, которая содержит максимальный элемент полученной матрицы\n",
    "'''\n",
    "\n",
    "import numpy as np\n",
    "\n",
    "arr = np.random.randint(0, 50,  size=(5,6))\n",
    "print('Сгенерированная матрица\\n', arr)\n",
    "\n",
    "# ищем наибольший элемент в матрице и его индекс\n",
    "max_value = 0\n",
    "for index_row, value in enumerate(arr):\n",
    "    for index_col, value_row in enumerate(arr):\n",
    "        value = arr[index_row][index_col]\n",
    "        if value > max_value:\n",
    "            max_value = value\n",
    "            # индексы максимального значения\n",
    "            max_index_row = index_row   # это значение нам особо не нужно, но ладно пусть будет\n",
    "            max_index_col = index_col\n",
    "\n",
    "print(f'\\nмаксимальное значением в матрице [{ max_index_row }][{max_index_col }] = { arr[max_index_row][max_index_col] }')\n",
    "print('столбец с максимальным значением в матрице:')\n",
    "i = 0\n",
    "for k in arr:\n",
    "    col_print = arr[i][max_index_col]\n",
    "    i += 1\n",
    "    print(col_print)"
   ]
  },
  {
   "cell_type": "markdown",
   "id": "280b9842",
   "metadata": {},
   "source": [
    "Напишите функцию, которая принимает на вохд матрицу (array) X \n",
    "и возвращает все её уникальные строки в виде новой матрицы."
   ]
  },
  {
   "cell_type": "code",
   "execution_count": null,
   "id": "24c9cd9e",
   "metadata": {},
   "outputs": [],
   "source": [
    "import numpy as np\n",
    "\n",
    "Y =  np.random.randint(4, 6, size=(10,3))\n",
    "print('Сгенерированная матрица\\n', Y)\n",
    "\n",
    "print('\\nУникальная матрица')\n",
    "uniq_matrix = np.unique(Y, axis = 0)\n",
    "print( uniq_matrix)"
   ]
  },
  {
   "cell_type": "code",
   "execution_count": null,
   "id": "290ea0a4",
   "metadata": {},
   "outputs": [],
   "source": []
  },
  {
   "cell_type": "code",
   "execution_count": null,
   "id": "48294892",
   "metadata": {},
   "outputs": [],
   "source": []
  }
 ],
 "metadata": {
  "kernelspec": {
   "display_name": "Python 3 (ipykernel)",
   "language": "python",
   "name": "python3"
  },
  "language_info": {
   "codemirror_mode": {
    "name": "ipython",
    "version": 3
   },
   "file_extension": ".py",
   "mimetype": "text/x-python",
   "name": "python",
   "nbconvert_exporter": "python",
   "pygments_lexer": "ipython3",
   "version": "3.9.13"
  }
 },
 "nbformat": 4,
 "nbformat_minor": 5
}
