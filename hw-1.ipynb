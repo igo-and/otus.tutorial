{
 "cells": [
  {
   "cell_type": "markdown",
   "id": "cf91b55c",
   "metadata": {},
   "source": [
    "## Home Work 1"
   ]
  },
  {
   "cell_type": "markdown",
   "id": "801182b0",
   "metadata": {},
   "source": [
    "### Задача 1"
   ]
  },
  {
   "cell_type": "markdown",
   "id": "e21a9037",
   "metadata": {},
   "source": [
    "\n",
    "$N$ хоббитов делят $K$ кусков эльфийского хлеба поровну, не делящийся нацело остаток остается в корзинке у Сэма. Напишите функцию, которая принимает на вход параметры $N$ и $K$ и возвращает два числа: $x$ - cколько кусков эльфиского хлеба достанется каждому хоббиту, и $y$ - сколько кусков остаётся в корзинке."
   ]
  },
  {
   "cell_type": "code",
   "execution_count": 17,
   "id": "9afea017",
   "metadata": {},
   "outputs": [
    {
     "name": "stdout",
     "output_type": "stream",
     "text": [
      "4 2\n"
     ]
    }
   ],
   "source": [
    "def share_bread(N, K):\n",
    "    # your code here\n",
    "    y = K % N # остаток от деления = сколько кусков остаток в корзине\n",
    "    x = K // N # целочисленное деление = сколько кусков хлеба каждому \n",
    "    print (x, y)\n",
    "    return x, y\n",
    "\n",
    "# если в функции всё верно, то после выполнения этой строчки, не должно выскакивать ошибок\n",
    "assert share_bread(N=3, K=14) == (4, 2)\n"
   ]
  },
  {
   "cell_type": "markdown",
   "id": "f3dda485",
   "metadata": {},
   "source": [
    "### Задача 2"
   ]
  },
  {
   "cell_type": "code",
   "execution_count": 63,
   "id": "2098ccd2",
   "metadata": {},
   "outputs": [
    {
     "data": {
      "text/plain": [
       "'YOU SHALL PASS'"
      ]
     },
     "execution_count": 63,
     "metadata": {},
     "output_type": "execute_result"
    }
   ],
   "source": [
    "def leap_year(year):\n",
    "    # your code here\n",
    "    if year % 4 != 0:\n",
    "        text_result = \"YOU SHALL NOT PASS\"\n",
    "    elif year % 100 == 0 and  year % 400 != 0:\n",
    "        text_result = \"YOU SHALL NOT PASS\"\n",
    "    else:\n",
    "        text_result = \"YOU SHALL PASS\"\n",
    "    return text_result\n",
    "\n",
    "leap_year(400)"
   ]
  },
  {
   "cell_type": "markdown",
   "id": "6d18b28f",
   "metadata": {},
   "source": [
    "\n",
    "### Задача 3"
   ]
  },
  {
   "cell_type": "code",
   "execution_count": null,
   "id": "3700f40b",
   "metadata": {},
   "outputs": [],
   "source": [
    "def amulet_area(a, b, c):\n",
    "    # your code here\n",
    "    p = (a + b + c) / 2\n",
    "    S = (p * (p - a) * (p - b) * (p - c)) ** 0.5\n",
    "    return S\n",
    "\n",
    "assert amulet_area(3, 4, 5) == 6"
   ]
  },
  {
   "cell_type": "markdown",
   "id": "7934c456",
   "metadata": {},
   "source": [
    "### Задача 4"
   ]
  },
  {
   "cell_type": "markdown",
   "id": "75dc5942",
   "metadata": {},
   "source": [
    "### ??\n",
    "1) мне нужна подсказка как записать формулы в Python\n",
    "\n",
    "2) я не могу прочитать формулу Косинусное расстояние\n",
    "\n",
    "\n"
   ]
  },
  {
   "cell_type": "code",
   "execution_count": null,
   "id": "0ad5f626",
   "metadata": {},
   "outputs": [],
   "source": []
  },
  {
   "cell_type": "markdown",
   "id": "b0600571",
   "metadata": {},
   "source": [
    "### Задача 5"
   ]
  },
  {
   "cell_type": "markdown",
   "id": "63690242",
   "metadata": {},
   "source": [
    "#### Создайте случайный array (`np.random.rand()`) длинной 100. Преобразуйте его так, чтобы\n",
    "* Максимальный элемент(ы) был равен 1\n",
    "* Минимальный элемент(ы) был равен 0\n",
    "* Остальные элементы в итнтервале от 0 до 1 остаются прежними"
   ]
  },
  {
   "cell_type": "markdown",
   "id": "4c125be4",
   "metadata": {},
   "source": [
    "### исправленный код"
   ]
  },
  {
   "cell_type": "code",
   "execution_count": 3,
   "id": "6a81558e",
   "metadata": {},
   "outputs": [
    {
     "name": "stdout",
     "output_type": "stream",
     "text": [
      "0.9828839114630501 0.010257395709995731\n",
      " - maximum_value_index = 18,  \n",
      " - minimum_value_index = 44\n",
      "\n",
      " - Меняем макс и мин значения в массиве. Остальные значения без изменений\n",
      "[0.70482521 0.3616785  0.1513441  0.51676301 0.79514152 0.39189073\n",
      " 0.72955576 0.27935836 0.55668158 0.50416888 0.90397075 0.41024362\n",
      " 0.43523239 0.24757587 0.55868177 0.30449118 0.52525196 0.94680013\n",
      " 1.         0.96941041 0.33382495 0.23589118 0.06531394 0.45494193\n",
      " 0.06492074 0.54809148 0.16297348 0.50551119 0.57483142 0.64802945\n",
      " 0.96106804 0.18499083 0.89482417 0.09290715 0.44141461 0.37816606\n",
      " 0.06822678 0.08644877 0.46062548 0.18890909 0.08611028 0.06716098\n",
      " 0.16080551 0.69675664 0.         0.34126861 0.80922771 0.28011049\n",
      " 0.62178567 0.66096236 0.46000472 0.85172634 0.09746071 0.42537672\n",
      " 0.62432048 0.61403459 0.88887144 0.41989808 0.472913   0.11370272\n",
      " 0.18803661 0.46679125 0.699604   0.61712598 0.75791201 0.25819028\n",
      " 0.53973673 0.82331474 0.10170872 0.84802504 0.6679676  0.63204649\n",
      " 0.32259842 0.64294057 0.6303222  0.22070942 0.11748957 0.58386708\n",
      " 0.0931345  0.22475015 0.12100102 0.8114522  0.49743368 0.88555389\n",
      " 0.46239371 0.24733991 0.0859937  0.69502762 0.61778901 0.63186709\n",
      " 0.16568066 0.37539128 0.37675518 0.07599113 0.55986861 0.66354753\n",
      " 0.21992191 0.0634038  0.05853714 0.96078333 0.56887191]\n"
     ]
    }
   ],
   "source": [
    "\n",
    "import numpy as np\n",
    "my_array = np.random.rand(101)\n",
    "print(np.max(my_array), np.min(my_array))\n",
    "\n",
    "# ищем индекс макс и мин значения в массиве\n",
    "maximum_value_index = np.argmax(my_array)\n",
    "minimum_value_index = np.argmin(my_array)\n",
    "print(f' - maximum_value_index = {maximum_value_index},  \\n - minimum_value_index = {minimum_value_index}')\n",
    "\n",
    "print('\\n - Меняем макс и мин значения в массиве. Остальные значения без изменений')\n",
    "my_array[maximum_value_index] = 1.0\n",
    "my_array[minimum_value_index] = 0.0\n",
    "print(my_array)\n"
   ]
  },
  {
   "cell_type": "markdown",
   "id": "995c77fd",
   "metadata": {},
   "source": [
    "### старая редакция"
   ]
  },
  {
   "cell_type": "code",
   "execution_count": 1,
   "id": "d3f3c56e",
   "metadata": {
    "scrolled": false
   },
   "outputs": [
    {
     "name": "stdout",
     "output_type": "stream",
     "text": [
      "0.9918992056135217 0.004938363316116301\n",
      "\n",
      " - макс. значение [84] 0.9918992056135217, \n",
      " - мин. значение [25] 0.004938363316116301\n",
      "\n",
      "Меняем макс и мин значения в массиве. Остальные значения без изменений\n",
      "[0.15786426 0.74427838 0.11275061 0.63483528 0.86733104 0.48308573\n",
      " 0.33009571 0.82635954 0.8262514  0.90942794 0.5371119  0.45811641\n",
      " 0.40495698 0.68832591 0.61956067 0.97892803 0.86620723 0.14207716\n",
      " 0.62674224 0.71380821 0.48567532 0.3853033  0.58660079 0.80357891\n",
      " 0.64705921 0.         0.33880153 0.85858783 0.29831051 0.56333005\n",
      " 0.71287854 0.9574195  0.90034685 0.33659418 0.5149434  0.07448734\n",
      " 0.35861593 0.73417011 0.64259172 0.74837666 0.01025292 0.71504287\n",
      " 0.34677045 0.75973339 0.558873   0.13482564 0.43389925 0.34823166\n",
      " 0.51438212 0.87318507 0.46981039 0.36653415 0.76154238 0.27861095\n",
      " 0.24881602 0.07058076 0.47655035 0.28165199 0.12214192 0.31622888\n",
      " 0.55750496 0.36956754 0.77331157 0.20977434 0.41391733 0.37500382\n",
      " 0.70369882 0.01533075 0.38872073 0.65567329 0.8590485  0.47602953\n",
      " 0.78496702 0.06854061 0.68240231 0.24400695 0.75833924 0.5606902\n",
      " 0.38435543 0.86353214 0.78632991 0.87782148 0.34823691 0.93176774\n",
      " 1.         0.53347545 0.17344489 0.19904268 0.4521023  0.71628335\n",
      " 0.91947942 0.2001312  0.83283064 0.05519391 0.68018761 0.1293822\n",
      " 0.93053188 0.17453865 0.91028672 0.30536595 0.25572923]\n"
     ]
    }
   ],
   "source": [
    "\n",
    "import numpy as np\n",
    "my_array = np.random.rand(101)\n",
    "print(np.max(my_array), np.min(my_array))\n",
    "print()\n",
    "\n",
    "# ищем индекс макс и мин значения в массиве\n",
    "max_value = 0\n",
    "min_value = 1\n",
    "# ищем максимальное и минимально значение массива\n",
    "for index, value in enumerate(my_array):\n",
    "    if value > max_value:\n",
    "        max_value = value\n",
    "        max_index = index # индекс максимального значения\n",
    "    if value < min_value:\n",
    "        min_value = value\n",
    "        min_index = index  # индекс минимального значения\n",
    "\n",
    "print(f' - макс. значение [{max_index}] {max_value}, \\n - мин. значение [{min_index}] {min_value}')\n",
    "\n",
    "print('\\nМеняем макс и мин значения в массиве. Остальные значения без изменений')\n",
    "my_array[max_index] = 1.0\n",
    "my_array[min_index] = 0.0\n",
    "my_array\n",
    "print(my_array)\n",
    "\n"
   ]
  },
  {
   "cell_type": "markdown",
   "id": "115df80c",
   "metadata": {},
   "source": [
    "#### Создайте array размером $5 \\times 6$ с целыми числами в интервале [0,50]. Напечатайте колонку, которая содержит максимальный элемент полученной матрицы \n",
    "\n"
   ]
  },
  {
   "cell_type": "markdown",
   "id": "734227ea",
   "metadata": {},
   "source": [
    "### исправленный код"
   ]
  },
  {
   "cell_type": "code",
   "execution_count": 5,
   "id": "6c93ca1a",
   "metadata": {},
   "outputs": [
    {
     "name": "stdout",
     "output_type": "stream",
     "text": [
      "Сгенерированная матрица\n",
      " [[15  2 13 36 46 47]\n",
      " [40 36 32 35 19 29]\n",
      " [12  2  6  3 46 10]\n",
      " [16 35 12 36 47 20]\n",
      " [28 23 38 29 13  3]]\n",
      " - ищем наибольшее значение в каждом столбце\n",
      "max_val_col [40 36 38 36 47 47] \n",
      "\n",
      " - ищем ИНДЕКС СТОЛБЦА где находится наибольшее значение\n",
      "index_max_col 4\n",
      "\n",
      " - столбец с наибольшим значением\n",
      "[46 19 46 47 13]\n"
     ]
    }
   ],
   "source": [
    "import numpy as np\n",
    "\n",
    "arr = np.random.randint(0, 50,  size=(5,6))\n",
    "print('Сгенерированная матрица\\n', arr)\n",
    "\n",
    "print(' - ищем наибольшее значение в каждом столбце')\n",
    "max_val_col = np.max(arr, axis = 0)\n",
    "print( f'max_val_col {max_val_col} \\n' )\n",
    "\n",
    "print(' - ищем ИНДЕКС СТОЛБЦА где находится наибольшее значение')\n",
    "index_max_col = np.argmax(max_val_col)\n",
    "print( f'index_max_col {index_max_col}\\n' )\n",
    "\n",
    "print(' - столбец с наибольшим значением')\n",
    "print(arr[ :, index_max_col])\n"
   ]
  },
  {
   "cell_type": "markdown",
   "id": "abe06b65",
   "metadata": {},
   "source": [
    "### старая редакция"
   ]
  },
  {
   "cell_type": "code",
   "execution_count": 2,
   "id": "60a13177",
   "metadata": {},
   "outputs": [
    {
     "name": "stdout",
     "output_type": "stream",
     "text": [
      "Сгенерированная матрица\n",
      " [[24 25 46 42 41 14]\n",
      " [21 22 30 30  4 48]\n",
      " [43  5 11 26 23 18]\n",
      " [ 0  4  3 41 43 19]\n",
      " [18 13 43 18 21 27]]\n",
      "\n",
      "максимальное значением в матрице [0][2] = 46\n",
      "столбец с максимальным значением в матрице:\n",
      "46\n",
      "30\n",
      "11\n",
      "3\n",
      "43\n"
     ]
    }
   ],
   "source": [
    "\n",
    "'''\n",
    "Создайте array размером 5 на 6 с целыми числами в интервале [0,50].\n",
    "Напечатайте колонку, которая содержит максимальный элемент полученной матрицы\n",
    "'''\n",
    "\n",
    "import numpy as np\n",
    "\n",
    "arr = np.random.randint(0, 50,  size=(5,6))\n",
    "print('Сгенерированная матрица\\n', arr)\n",
    "\n",
    "# ищем наибольший элемент в матрице и его индекс\n",
    "max_value = 0\n",
    "for index_row, value in enumerate(arr):\n",
    "    for index_col, value_row in enumerate(arr):\n",
    "        value = arr[index_row][index_col]\n",
    "        if value > max_value:\n",
    "            max_value = value\n",
    "            # индексы максимального значения\n",
    "            max_index_row = index_row   # это значение нам особо не нужно, но ладно пусть будет\n",
    "            max_index_col = index_col\n",
    "\n",
    "print(f'\\nмаксимальное значением в матрице [{ max_index_row }][{max_index_col }] = { arr[max_index_row][max_index_col] }')\n",
    "print('столбец с максимальным значением в матрице:')\n",
    "i = 0\n",
    "for k in arr:\n",
    "    col_print = arr[i][max_index_col]\n",
    "    i += 1\n",
    "    print(col_print)\n",
    "\n"
   ]
  },
  {
   "cell_type": "markdown",
   "id": "cc4dce88",
   "metadata": {},
   "source": [
    "#### Напишите функцию, которая принимает на вохд матрицу (array) X и возвращает все её уникальные строки в виде новой матрицы."
   ]
  },
  {
   "cell_type": "code",
   "execution_count": 1,
   "id": "ea5ade5f",
   "metadata": {},
   "outputs": [
    {
     "name": "stdout",
     "output_type": "stream",
     "text": [
      "Сгенерированная матрица\n",
      " [[5 5 5]\n",
      " [5 5 4]\n",
      " [4 5 4]\n",
      " [5 5 4]\n",
      " [4 4 5]\n",
      " [4 4 4]\n",
      " [4 5 4]\n",
      " [4 5 5]\n",
      " [4 5 5]\n",
      " [4 5 4]]\n",
      "\n",
      "Уникальная матрица\n",
      "[[4 4 4]\n",
      " [4 4 5]\n",
      " [4 5 4]\n",
      " [4 5 5]\n",
      " [5 5 4]\n",
      " [5 5 5]]\n"
     ]
    }
   ],
   "source": [
    "import numpy as np\n",
    "\n",
    "Y =  np.random.randint(4, 6, size=(10,3))\n",
    "print('Сгенерированная матрица\\n', Y)\n",
    "\n",
    "print('\\nУникальная матрица')\n",
    "uniq_matrix = np.unique(Y, axis = 0)\n",
    "print( uniq_matrix)\n"
   ]
  },
  {
   "cell_type": "code",
   "execution_count": null,
   "id": "c7701226",
   "metadata": {},
   "outputs": [],
   "source": []
  }
 ],
 "metadata": {
  "kernelspec": {
   "display_name": "Python 3 (ipykernel)",
   "language": "python",
   "name": "python3"
  },
  "language_info": {
   "codemirror_mode": {
    "name": "ipython",
    "version": 3
   },
   "file_extension": ".py",
   "mimetype": "text/x-python",
   "name": "python",
   "nbconvert_exporter": "python",
   "pygments_lexer": "ipython3",
   "version": "3.9.13"
  }
 },
 "nbformat": 4,
 "nbformat_minor": 5
}
